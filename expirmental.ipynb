{
 "cells": [
  {
   "cell_type": "code",
   "execution_count": 1,
   "id": "b8105e37-b9b0-4db9-aeaa-3f30f975918e",
   "metadata": {},
   "outputs": [],
   "source": [
    "import pandas as pd\n",
    "from torch.utils.data import Dataset , DataLoader"
   ]
  },
  {
   "cell_type": "code",
   "execution_count": 48,
   "id": "02d68f0d-d242-46d3-a958-2fea5b478578",
   "metadata": {},
   "outputs": [],
   "source": [
    "def Alpaca_SYS_Prompt(Instruction:str , Input:str , Response:str  ):\n",
    "    SYS_prompt = \"\"\"Below are sql tables schemas paired with instruction that describes a task. Using valid SQLite,\n",
    "    write a response that appropriately completes the request for the provided tables\n",
    "    ### Instruction:\n",
    "    {Instruction}\n",
    "    \n",
    "    ### Input:\n",
    "    {Input}\n",
    "    \n",
    "    ### Response:\n",
    "    {Response}\"\"\".format(Instruction =Instruction , Input = Input , Response = Response)\n",
    "    return SYS_prompt"
   ]
  },
  {
   "cell_type": "code",
   "execution_count": 50,
   "id": "1758ef12-9e6a-4742-ac85-f224fdb887bf",
   "metadata": {},
   "outputs": [
    {
     "data": {
      "text/plain": [
       "'Below are sql tables schemas paired with instruction that describes a task. Using valid SQLite,\\n    write a response that appropriately completes the request for the provided tables\\n    ### Instruction:\\n    HI\\n    \\n    ### Input:\\n    X\\n    \\n    ### Response:\\n    V'"
      ]
     },
     "execution_count": 50,
     "metadata": {},
     "output_type": "execute_result"
    }
   ],
   "source": [
    "Alpaca_SYS_Prompt(\"HI\" , \"X\" ,\"V\")"
   ]
  },
  {
   "cell_type": "code",
   "execution_count": null,
   "id": "31535a43-9d05-46db-b28f-fb7085b4674c",
   "metadata": {},
   "outputs": [],
   "source": []
  },
  {
   "cell_type": "code",
   "execution_count": 2,
   "id": "f51347c2-db39-4ab3-9ed9-2df796227b81",
   "metadata": {},
   "outputs": [],
   "source": [
    "df = pd.read_csv(\"SQL_Sample.csv\")"
   ]
  },
  {
   "cell_type": "markdown",
   "id": "ba0c0030-ac46-412c-8b62-5141b6f22087",
   "metadata": {},
   "source": [
    "### Text 2 SQL\n",
    "Instruction input response  "
   ]
  },
  {
   "cell_type": "code",
   "execution_count": 46,
   "id": "299fc25b-7407-4f24-a8d5-602c34732ca3",
   "metadata": {},
   "outputs": [
    {
     "data": {
      "text/plain": [
       "'Below are sql tables schemas paired with instruction that describes a task. Using valid SQLite, write a response that appropriately completes the request for the provided tables. ### Instruction: What is the total number of weeks that the Steelers had a record of 1 0? ### Input: CREATE TABLE table_70993 (\\n    \"Week\" real,\\n    \"Date\" text,\\n    \"Kickoff ( ET )\" text,\\n    \"Opponent\" text,\\n    \"Result\" text,\\n    \"Record\" text,\\n    \"Game Site\" text\\n) ### Response: SELECT COUNT(\"Week\") FROM table_70993 WHERE \"Record\" = \\'1–0\\''"
      ]
     },
     "execution_count": 46,
     "metadata": {},
     "output_type": "execute_result"
    }
   ],
   "source": [
    "df['text'][0]"
   ]
  },
  {
   "cell_type": "code",
   "execution_count": 53,
   "id": "fc327914-9894-4ec4-b778-811c2cc7f28a",
   "metadata": {},
   "outputs": [
    {
     "data": {
      "text/plain": [
       "Index(['instruction', 'input', 'response', 'source', 'text'], dtype='object')"
      ]
     },
     "execution_count": 53,
     "metadata": {},
     "output_type": "execute_result"
    }
   ],
   "source": [
    "df.columns "
   ]
  },
  {
   "cell_type": "code",
   "execution_count": 83,
   "id": "36df54aa-602a-4784-a8d7-50270345fd1b",
   "metadata": {},
   "outputs": [],
   "source": [
    "def split_data(df:pd.DataFrame,  train_split: float = .8\n",
    "               , val_split: float = .10, seed = SEED , col_name:List[str] = COLS_NAME):   \n",
    "    # Flag\n",
    "    col_name = [\"instruction\" , \"input\" , \"response\"]\n",
    "    assert set(col_name).issubset(set(df.columns)) , \"KeyError Instruction ,Input , Response not in table\"\n",
    "    df = df[col_name]\n",
    "    train = df.iloc[:int(len(df) * train_split)]\n",
    "    "
   ]
  },
  {
   "cell_type": "code",
   "execution_count": null,
   "id": "0ca633d2-4a8f-4bd8-bba9-b983ae8b8e0f",
   "metadata": {},
   "outputs": [],
   "source": [
    "df.to_csv()"
   ]
  },
  {
   "cell_type": "code",
   "execution_count": 85,
   "id": "4e6d8e10-2f26-4002-85f3-c8ed3ba8030a",
   "metadata": {},
   "outputs": [
    {
     "ename": "AssertionError",
     "evalue": "KeyError Instruction ,Input , Response not in table",
     "output_type": "error",
     "traceback": [
      "\u001b[1;31m---------------------------------------------------------------------------\u001b[0m",
      "\u001b[1;31mAssertionError\u001b[0m                            Traceback (most recent call last)",
      "Cell \u001b[1;32mIn[85], line 1\u001b[0m\n\u001b[1;32m----> 1\u001b[0m split_data(df)\n",
      "Cell \u001b[1;32mIn[83], line 2\u001b[0m, in \u001b[0;36msplit_data\u001b[1;34m(df)\u001b[0m\n\u001b[0;32m      1\u001b[0m \u001b[38;5;28;01mdef\u001b[39;00m \u001b[38;5;21msplit_data\u001b[39m(df):\n\u001b[1;32m----> 2\u001b[0m     \u001b[38;5;28;01massert\u001b[39;00m {\u001b[38;5;124m\"\u001b[39m\u001b[38;5;124mInstruction\u001b[39m\u001b[38;5;124m\"\u001b[39m , \u001b[38;5;124m\"\u001b[39m\u001b[38;5;124minput\u001b[39m\u001b[38;5;124m\"\u001b[39m , \u001b[38;5;124m\"\u001b[39m\u001b[38;5;124mresponse\u001b[39m\u001b[38;5;124m\"\u001b[39m}\u001b[38;5;241m.\u001b[39missubset(\u001b[38;5;28mset\u001b[39m(df\u001b[38;5;241m.\u001b[39mcolumns)) , \u001b[38;5;124m\"\u001b[39m\u001b[38;5;124mKeyError Instruction ,Input , Response not in table\u001b[39m\u001b[38;5;124m\"\u001b[39m\n",
      "\u001b[1;31mAssertionError\u001b[0m: KeyError Instruction ,Input , Response not in table"
     ]
    }
   ],
   "source": [
    "split_data(df)"
   ]
  },
  {
   "cell_type": "code",
   "execution_count": 75,
   "id": "3e6cc197-912b-4fb6-bcd9-f9033fd229ee",
   "metadata": {},
   "outputs": [
    {
     "data": {
      "text/plain": [
       "True"
      ]
     },
     "execution_count": 75,
     "metadata": {},
     "output_type": "execute_result"
    }
   ],
   "source": [
    "{\"instruction\" , \"input\" , \"response\"}.issubset( set(df.columns))"
   ]
  },
  {
   "cell_type": "code",
   "execution_count": 87,
   "id": "dc764715-b84b-4348-b637-dcb8de12442e",
   "metadata": {},
   "outputs": [
    {
     "ename": "ModuleNotFoundError",
     "evalue": "No module named 'GPT2'",
     "output_type": "error",
     "traceback": [
      "\u001b[1;31m---------------------------------------------------------------------------\u001b[0m",
      "\u001b[1;31mModuleNotFoundError\u001b[0m                       Traceback (most recent call last)",
      "Cell \u001b[1;32mIn[87], line 1\u001b[0m\n\u001b[1;32m----> 1\u001b[0m \u001b[38;5;28;01mfrom\u001b[39;00m \u001b[38;5;21;01msrc\u001b[39;00m\u001b[38;5;21;01m.\u001b[39;00m\u001b[38;5;21;01mdata_utils\u001b[39;00m \u001b[38;5;28;01mimport\u001b[39;00m split_data\n",
      "File \u001b[1;32m~\\Desktop\\InstructionFineTuning\\src\\__init__.py:1\u001b[0m\n\u001b[1;32m----> 1\u001b[0m \u001b[38;5;28;01mfrom\u001b[39;00m \u001b[38;5;21;01mGPT2\u001b[39;00m \u001b[38;5;28;01mimport\u001b[39;00m  GPTModel\n\u001b[0;32m      2\u001b[0m \u001b[38;5;28;01mfrom\u001b[39;00m \u001b[38;5;21;01mlorautils\u001b[39;00m \u001b[38;5;28;01mimport\u001b[39;00m ReplaceLinear\n",
      "\u001b[1;31mModuleNotFoundError\u001b[0m: No module named 'GPT2'"
     ]
    }
   ],
   "source": [
    "from src.data_utils import split_data"
   ]
  },
  {
   "cell_type": "code",
   "execution_count": null,
   "id": "87988cfa-abba-48fc-b105-03b3e56916b2",
   "metadata": {},
   "outputs": [],
   "source": []
  },
  {
   "cell_type": "code",
   "execution_count": null,
   "id": "c2bb9f08-c49f-4b1b-840d-94ad3b31b0c4",
   "metadata": {},
   "outputs": [],
   "source": [
    "class Instruction"
   ]
  }
 ],
 "metadata": {
  "kernelspec": {
   "display_name": "Python [conda env:base] *",
   "language": "python",
   "name": "conda-base-py"
  },
  "language_info": {
   "codemirror_mode": {
    "name": "ipython",
    "version": 3
   },
   "file_extension": ".py",
   "mimetype": "text/x-python",
   "name": "python",
   "nbconvert_exporter": "python",
   "pygments_lexer": "ipython3",
   "version": "3.12.7"
  }
 },
 "nbformat": 4,
 "nbformat_minor": 5
}
